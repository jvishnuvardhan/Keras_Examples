{
  "nbformat": 4,
  "nbformat_minor": 0,
  "metadata": {
    "colab": {
      "name": "TF2_bug_embedding_column.ipynb",
      "version": "0.3.2",
      "provenance": [],
      "include_colab_link": true
    },
    "kernelspec": {
      "name": "python3",
      "display_name": "Python 3"
    },
    "accelerator": "GPU"
  },
  "cells": [
    {
      "cell_type": "markdown",
      "metadata": {
        "id": "view-in-github",
        "colab_type": "text"
      },
      "source": [
        "<a href=\"https://colab.research.google.com/github/jvishnuvardhan/Keras_Examples/blob/master/TF2_bug_embedding_column.ipynb\" target=\"_parent\"><img src=\"https://colab.research.google.com/assets/colab-badge.svg\" alt=\"Open In Colab\"/></a>"
      ]
    },
    {
      "cell_type": "code",
      "metadata": {
        "id": "sDuN9naHv9f8",
        "colab_type": "code",
        "outputId": "7c3059c7-b89e-4b4f-ccd0-210dd60114bf",
        "colab": {
          "base_uri": "https://localhost:8080/",
          "height": 69
        }
      },
      "source": [
        "!pip -q install tf-nightly-2.0-preview"
      ],
      "execution_count": 0,
      "outputs": [
        {
          "output_type": "stream",
          "text": [
            "\u001b[K     |████████████████████████████████| 90.6MB 3.1MB/s \n",
            "\u001b[K     |████████████████████████████████| 3.8MB 47.6MB/s \n",
            "\u001b[K     |████████████████████████████████| 460kB 52.3MB/s \n",
            "\u001b[?25h"
          ],
          "name": "stdout"
        }
      ]
    },
    {
      "cell_type": "code",
      "metadata": {
        "id": "3kQpHlg0xmpo",
        "colab_type": "code",
        "outputId": "fdcec2ac-915a-4d73-f5cf-3279e18d4a54",
        "colab": {
          "base_uri": "https://localhost:8080/",
          "height": 35
        }
      },
      "source": [
        "!python -c \"import tensorflow as tf; print(tf.version.GIT_VERSION, tf.version.VERSION)\""
      ],
      "execution_count": 0,
      "outputs": [
        {
          "output_type": "stream",
          "text": [
            "v1.12.1-10538-gd526881 2.0.0-dev20190906\n"
          ],
          "name": "stdout"
        }
      ]
    },
    {
      "cell_type": "code",
      "metadata": {
        "id": "8xEPlYvsyC1o",
        "colab_type": "code",
        "outputId": "469bcdc3-9339-47f7-9e5c-ab123e6f8f89",
        "colab": {
          "base_uri": "https://localhost:8080/",
          "height": 35
        }
      },
      "source": [
        "import sys\n",
        "sys.version"
      ],
      "execution_count": 0,
      "outputs": [
        {
          "output_type": "execute_result",
          "data": {
            "text/plain": [
              "'3.6.8 (default, Jan 14 2019, 11:02:34) \\n[GCC 8.0.1 20180414 (experimental) [trunk revision 259383]]'"
            ]
          },
          "metadata": {
            "tags": []
          },
          "execution_count": 3
        }
      ]
    },
    {
      "cell_type": "code",
      "metadata": {
        "id": "IFVyfoiuwdfu",
        "colab_type": "code",
        "outputId": "b3db101e-836b-4875-f59c-50b174c87e2b",
        "colab": {
          "base_uri": "https://localhost:8080/",
          "height": 35
        }
      },
      "source": [
        "import tensorflow as tf\n",
        "tf.__version__"
      ],
      "execution_count": 0,
      "outputs": [
        {
          "output_type": "execute_result",
          "data": {
            "text/plain": [
              "'2.0.0-dev20190906'"
            ]
          },
          "metadata": {
            "tags": []
          },
          "execution_count": 4
        }
      ]
    },
    {
      "cell_type": "code",
      "metadata": {
        "id": "OKxEcSUawMrB",
        "colab_type": "code",
        "outputId": "81d0e685-fc69-4db4-cc04-5edd12da24df",
        "colab": {
          "base_uri": "https://localhost:8080/",
          "height": 365
        }
      },
      "source": [
        "import pandas as pd\n",
        "\n",
        "\n",
        "def create_model():\n",
        "    store_feature = tf.feature_column.categorical_column_with_vocabulary_list('store',\n",
        "                                                                              vocabulary_list=['a', 'b'])\n",
        "\n",
        "    store_feature = tf.feature_column.embedding_column(store_feature, dimension=64)\n",
        "\n",
        "    loc_feature = tf.feature_column.categorical_column_with_vocabulary_list('loc',\n",
        "                                                                              vocabulary_list=['x', 'y', 'z'])\n",
        "\n",
        "    loc_feature = tf.feature_column.embedding_column(loc_feature, dimension=32)\n",
        "\n",
        "    model = tf.keras.Sequential([\n",
        "        tf.keras.layers.DenseFeatures([store_feature, loc_feature]),\n",
        "        tf.keras.layers.Dense(32, activation='relu'),\n",
        "        tf.keras.layers.Dense(1, activation='relu')\n",
        "    ])\n",
        "\n",
        "    return model\n",
        "\n",
        "df = pd.DataFrame({'store': ['a', 'b', 'b', 'a'],\n",
        "                   'loc': ['x', 'y', 'z', 'x'],\n",
        "                   'label': [100., 200., 400., 100.]})\n",
        "\n",
        "\n",
        "labels = df.pop('label')\n",
        "\n",
        "ds = tf.data.Dataset.from_tensor_slices((dict(df), labels)).batch(2)\n",
        "\n",
        "model_1 = create_model()\n",
        "model_1.compile(optimizer='adam', loss='mse', metrics=['mse'])\n",
        "model_1.fit(ds, epochs=5)\n",
        "model_1.save_weights('./sample_chkpt-1')"
      ],
      "execution_count": 0,
      "outputs": [
        {
          "output_type": "stream",
          "text": [
            "WARNING:tensorflow:From /usr/local/lib/python3.6/dist-packages/tensorflow_core/python/feature_column/feature_column_v2.py:3089: VocabularyListCategoricalColumn._num_buckets (from tensorflow.python.feature_column.feature_column_v2) is deprecated and will be removed in a future version.\n",
            "Instructions for updating:\n",
            "The old _FeatureColumn APIs are being deprecated. Please use the new FeatureColumn APIs instead.\n",
            "WARNING:tensorflow:From /usr/local/lib/python3.6/dist-packages/tensorflow_core/python/feature_column/feature_column_v2.py:353: Layer.add_variable (from tensorflow.python.keras.engine.base_layer) is deprecated and will be removed in a future version.\n",
            "Instructions for updating:\n",
            "Please use `layer.add_weight` method instead.\n",
            "WARNING:tensorflow:From /usr/local/lib/python3.6/dist-packages/tensorflow_core/python/ops/embedding_ops.py:802: where (from tensorflow.python.ops.array_ops) is deprecated and will be removed in a future version.\n",
            "Instructions for updating:\n",
            "Use tf.where in 2.0, which has the same broadcast rule as np.where\n",
            "Epoch 1/5\n",
            "2/2 [==============================] - 1s 403ms/step - loss: 54992.2881 - mse: 54992.2891\n",
            "Epoch 2/5\n",
            "2/2 [==============================] - 0s 6ms/step - loss: 39977.0015 - mse: 54974.2109\n",
            "Epoch 3/5\n",
            "2/2 [==============================] - 0s 5ms/step - loss: 39962.6724 - mse: 54957.4258\n",
            "Epoch 4/5\n",
            "2/2 [==============================] - 0s 5ms/step - loss: 39949.2603 - mse: 54941.2500\n",
            "Epoch 5/5\n",
            "2/2 [==============================] - 0s 5ms/step - loss: 39936.9004 - mse: 54926.6289\n"
          ],
          "name": "stdout"
        }
      ]
    },
    {
      "cell_type": "code",
      "metadata": {
        "id": "bQEfm8JlwS2K",
        "colab_type": "code",
        "outputId": "552a7060-6a15-42ae-cab7-8512b9d6d8dc",
        "colab": {
          "base_uri": "https://localhost:8080/",
          "height": 86
        }
      },
      "source": [
        "# this workds\n",
        "model_1.predict(ds)"
      ],
      "execution_count": 0,
      "outputs": [
        {
          "output_type": "execute_result",
          "data": {
            "text/plain": [
              "array([[0.        ],\n",
              "       [0.31282616],\n",
              "       [0.2581989 ],\n",
              "       [0.        ]], dtype=float32)"
            ]
          },
          "metadata": {
            "tags": []
          },
          "execution_count": 6
        }
      ]
    },
    {
      "cell_type": "code",
      "metadata": {
        "id": "r14ZVlcGwVT7",
        "colab_type": "code",
        "outputId": "51ef20b7-f06d-492c-9911-75cc557fb13d",
        "colab": {
          "base_uri": "https://localhost:8080/",
          "height": 86
        }
      },
      "source": [
        "model_2 = create_model()\n",
        "model_2.load_weights('./sample_chkpt-1')\n",
        "\n",
        "# this does not work\n",
        "model_2.predict(ds)"
      ],
      "execution_count": 0,
      "outputs": [
        {
          "output_type": "execute_result",
          "data": {
            "text/plain": [
              "array([[0.        ],\n",
              "       [0.31282616],\n",
              "       [0.2581989 ],\n",
              "       [0.        ]], dtype=float32)"
            ]
          },
          "metadata": {
            "tags": []
          },
          "execution_count": 7
        }
      ]
    }
  ]
}